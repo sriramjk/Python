{
  "nbformat": 4,
  "nbformat_minor": 0,
  "metadata": {
    "colab": {
      "provenance": []
    },
    "kernelspec": {
      "name": "python3",
      "display_name": "Python 3"
    },
    "language_info": {
      "name": "python"
    }
  },
  "cells": [
    {
      "cell_type": "code",
      "execution_count": 1,
      "metadata": {
        "id": "8NPtNcrAbTLo"
      },
      "outputs": [],
      "source": [
        "name = 'iPhone'\n",
        "is_anroid = False\n",
        "screen_size = 4.3"
      ]
    },
    {
      "cell_type": "code",
      "source": [
        "my_phone = [name, is_anroid, screen_size]\n",
        "print(my_phone)\n",
        "print(type(my_phone))"
      ],
      "metadata": {
        "colab": {
          "base_uri": "https://localhost:8080/"
        },
        "id": "z0_6DADRcVlJ",
        "outputId": "07d70f2d-bfca-47dd-bfc9-6b1ab565991f"
      },
      "execution_count": 2,
      "outputs": [
        {
          "output_type": "stream",
          "name": "stdout",
          "text": [
            "['iPhone', False, 4.3]\n",
            "<class 'list'>\n"
          ]
        }
      ]
    },
    {
      "cell_type": "code",
      "source": [
        "my_phone[0]"
      ],
      "metadata": {
        "colab": {
          "base_uri": "https://localhost:8080/",
          "height": 35
        },
        "id": "EO0Ok8t7ccay",
        "outputId": "fbdaf295-4df9-41b5-8818-60c59bc887f0"
      },
      "execution_count": 3,
      "outputs": [
        {
          "output_type": "execute_result",
          "data": {
            "text/plain": [
              "'iPhone'"
            ],
            "application/vnd.google.colaboratory.intrinsic+json": {
              "type": "string"
            }
          },
          "metadata": {},
          "execution_count": 3
        }
      ]
    },
    {
      "cell_type": "code",
      "source": [
        "print(type(my_phone[0]))"
      ],
      "metadata": {
        "colab": {
          "base_uri": "https://localhost:8080/"
        },
        "id": "z2z4GX4fcf3Q",
        "outputId": "315aa4f2-1b09-4786-e91d-e4e506f60dc0"
      },
      "execution_count": 4,
      "outputs": [
        {
          "output_type": "stream",
          "name": "stdout",
          "text": [
            "<class 'str'>\n"
          ]
        }
      ]
    },
    {
      "cell_type": "code",
      "source": [
        "my_phone[:2]"
      ],
      "metadata": {
        "colab": {
          "base_uri": "https://localhost:8080/"
        },
        "id": "QTWDSlNgcidT",
        "outputId": "a388359b-ca54-4eca-b88e-9413d9836304"
      },
      "execution_count": 5,
      "outputs": [
        {
          "output_type": "execute_result",
          "data": {
            "text/plain": [
              "['iPhone', False]"
            ]
          },
          "metadata": {},
          "execution_count": 5
        }
      ]
    },
    {
      "cell_type": "code",
      "source": [
        "a = [14, 22, 13, 41, 53]"
      ],
      "metadata": {
        "id": "Z2bIv_-nckmI"
      },
      "execution_count": 6,
      "outputs": []
    },
    {
      "cell_type": "code",
      "source": [
        "print(a[5:1])"
      ],
      "metadata": {
        "colab": {
          "base_uri": "https://localhost:8080/"
        },
        "id": "JqnLbv4vcqFG",
        "outputId": "3f613e7f-42cc-4f2f-e009-8ec6c3bffa07"
      },
      "execution_count": 7,
      "outputs": [
        {
          "output_type": "stream",
          "name": "stdout",
          "text": [
            "[]\n"
          ]
        }
      ]
    },
    {
      "cell_type": "code",
      "source": [
        "print(a[40:1:-1])"
      ],
      "metadata": {
        "colab": {
          "base_uri": "https://localhost:8080/"
        },
        "id": "UcNyzpJccuru",
        "outputId": "e3bbda1b-b4b8-41d0-e3c1-5eb89499c6f8"
      },
      "execution_count": 9,
      "outputs": [
        {
          "output_type": "stream",
          "name": "stdout",
          "text": [
            "[53, 41, 13]\n"
          ]
        }
      ]
    },
    {
      "cell_type": "code",
      "source": [
        "my_dads_phone = my_phone\n",
        "print(my_dads_phone)"
      ],
      "metadata": {
        "colab": {
          "base_uri": "https://localhost:8080/"
        },
        "id": "PcIMBypLc03W",
        "outputId": "94efd0e4-8c2d-4d26-f4c1-73f0c1f2fe83"
      },
      "execution_count": 10,
      "outputs": [
        {
          "output_type": "stream",
          "name": "stdout",
          "text": [
            "['iPhone', False, 4.3]\n"
          ]
        }
      ]
    },
    {
      "cell_type": "code",
      "source": [
        "my_phone[0] = 'Samsung'\n",
        "print(my_phone)\n",
        "print(my_dads_phone)"
      ],
      "metadata": {
        "colab": {
          "base_uri": "https://localhost:8080/"
        },
        "id": "te1Xi9AVc-Ow",
        "outputId": "2428ca96-c85e-40ce-e681-359f91f46854"
      },
      "execution_count": 11,
      "outputs": [
        {
          "output_type": "stream",
          "name": "stdout",
          "text": [
            "['Samsung', False, 4.3]\n",
            "['Samsung', False, 4.3]\n"
          ]
        }
      ]
    },
    {
      "cell_type": "code",
      "source": [
        "my_dads_phone = list(my_phone)\n",
        "print(my_dads_phone)"
      ],
      "metadata": {
        "colab": {
          "base_uri": "https://localhost:8080/"
        },
        "id": "MLwtfGO3dAny",
        "outputId": "76f68fd2-54e8-4102-de5c-e1f5b9e1f391"
      },
      "execution_count": 12,
      "outputs": [
        {
          "output_type": "stream",
          "name": "stdout",
          "text": [
            "['Samsung', False, 4.3]\n"
          ]
        }
      ]
    },
    {
      "cell_type": "code",
      "source": [
        "my_phone[0] = 'iPhone'\n",
        "print(my_phone)\n",
        "print(my_dads_phone)"
      ],
      "metadata": {
        "colab": {
          "base_uri": "https://localhost:8080/"
        },
        "id": "LV7RpHF6dEu4",
        "outputId": "553e75b0-77ea-4a8a-d542-8d7411157ea2"
      },
      "execution_count": 13,
      "outputs": [
        {
          "output_type": "stream",
          "name": "stdout",
          "text": [
            "['iPhone', False, 4.3]\n",
            "['Samsung', False, 4.3]\n"
          ]
        }
      ]
    },
    {
      "cell_type": "code",
      "source": [
        "len(my_phone)"
      ],
      "metadata": {
        "colab": {
          "base_uri": "https://localhost:8080/"
        },
        "id": "9oxeeq04dGh6",
        "outputId": "a4be8000-f6a9-46e0-af24-1be9466beac7"
      },
      "execution_count": 14,
      "outputs": [
        {
          "output_type": "execute_result",
          "data": {
            "text/plain": [
              "3"
            ]
          },
          "metadata": {},
          "execution_count": 14
        }
      ]
    },
    {
      "cell_type": "code",
      "source": [
        "len?"
      ],
      "metadata": {
        "id": "73_HwYwjdTPx"
      },
      "execution_count": 15,
      "outputs": []
    },
    {
      "cell_type": "code",
      "source": [
        "my_phone.append('black')\n",
        "print(my_phone, len(my_phone))"
      ],
      "metadata": {
        "colab": {
          "base_uri": "https://localhost:8080/"
        },
        "id": "Uw7xLXh1dUM-",
        "outputId": "a5a0104a-8b7f-40cc-cab7-3c293290824c"
      },
      "execution_count": 16,
      "outputs": [
        {
          "output_type": "stream",
          "name": "stdout",
          "text": [
            "['iPhone', False, 4.3, 'black'] 4\n"
          ]
        }
      ]
    },
    {
      "cell_type": "code",
      "source": [
        "iphone5s_some_prefs = ['single_sim', 38923]"
      ],
      "metadata": {
        "id": "BwkdVesadYv-"
      },
      "execution_count": 17,
      "outputs": []
    },
    {
      "cell_type": "code",
      "source": [
        "my_phone += iphone5s_some_prefs\n",
        "print(my_phone)"
      ],
      "metadata": {
        "colab": {
          "base_uri": "https://localhost:8080/"
        },
        "id": "DQ0bwwkAdgMk",
        "outputId": "dac7e816-a1bc-48e1-ca42-9dee7431734f"
      },
      "execution_count": 18,
      "outputs": [
        {
          "output_type": "stream",
          "name": "stdout",
          "text": [
            "['iPhone', False, 4.3, 'black', 'single_sim', 38923]\n"
          ]
        }
      ]
    },
    {
      "cell_type": "code",
      "source": [
        "for data in my_phone:\n",
        "  print(data, end=' ')"
      ],
      "metadata": {
        "colab": {
          "base_uri": "https://localhost:8080/"
        },
        "id": "cx94I38gdpTY",
        "outputId": "ea5a866b-3610-419f-99bd-06e1272a3abd"
      },
      "execution_count": 19,
      "outputs": [
        {
          "output_type": "stream",
          "name": "stdout",
          "text": [
            "iPhone False 4.3 black single_sim 38923 "
          ]
        }
      ]
    },
    {
      "cell_type": "code",
      "source": [
        "range(5)"
      ],
      "metadata": {
        "colab": {
          "base_uri": "https://localhost:8080/"
        },
        "id": "FRawW8bbeMNy",
        "outputId": "0b130ae7-23ef-4530-b12a-d50cc486f676"
      },
      "execution_count": 20,
      "outputs": [
        {
          "output_type": "execute_result",
          "data": {
            "text/plain": [
              "range(0, 5)"
            ]
          },
          "metadata": {},
          "execution_count": 20
        }
      ]
    },
    {
      "cell_type": "code",
      "source": [
        "list(range(5))"
      ],
      "metadata": {
        "colab": {
          "base_uri": "https://localhost:8080/"
        },
        "id": "_A0KS7xcePYV",
        "outputId": "b7ac9dc5-7001-4cfe-f23f-ecbbcaee44be"
      },
      "execution_count": 21,
      "outputs": [
        {
          "output_type": "execute_result",
          "data": {
            "text/plain": [
              "[0, 1, 2, 3, 4]"
            ]
          },
          "metadata": {},
          "execution_count": 21
        }
      ]
    },
    {
      "cell_type": "code",
      "source": [
        "a = list(range(5))\n",
        "print(a)"
      ],
      "metadata": {
        "colab": {
          "base_uri": "https://localhost:8080/"
        },
        "id": "IB7Qfw7IeRCB",
        "outputId": "09af9e63-a0ae-4a41-a01d-5d6ce2968259"
      },
      "execution_count": 22,
      "outputs": [
        {
          "output_type": "stream",
          "name": "stdout",
          "text": [
            "[0, 1, 2, 3, 4]\n"
          ]
        }
      ]
    },
    {
      "cell_type": "code",
      "source": [
        "b = list(map(lambda x: x**2, a))\n",
        "print(b)"
      ],
      "metadata": {
        "colab": {
          "base_uri": "https://localhost:8080/"
        },
        "id": "SIC50_5AeVdH",
        "outputId": "2eae7624-6c72-4b64-fc2f-19bd00312c15"
      },
      "execution_count": 23,
      "outputs": [
        {
          "output_type": "stream",
          "name": "stdout",
          "text": [
            "[0, 1, 4, 9, 16]\n"
          ]
        }
      ]
    },
    {
      "cell_type": "code",
      "source": [
        "def ram(x):\n",
        "  return x**2"
      ],
      "metadata": {
        "id": "vFrc8cg1eXx6"
      },
      "execution_count": 24,
      "outputs": []
    },
    {
      "cell_type": "code",
      "source": [
        "c = list(map(ram, a))\n",
        "print(c)"
      ],
      "metadata": {
        "colab": {
          "base_uri": "https://localhost:8080/"
        },
        "id": "qsv6I8eYecgo",
        "outputId": "9b1daa14-e551-4e92-9df1-cfe18dc011bd"
      },
      "execution_count": 25,
      "outputs": [
        {
          "output_type": "stream",
          "name": "stdout",
          "text": [
            "[0, 1, 4, 9, 16]\n"
          ]
        }
      ]
    },
    {
      "cell_type": "code",
      "source": [
        "d = list(filter(lambda x: x, c)) # if condition is true then that value is returned\n",
        "print(d)"
      ],
      "metadata": {
        "colab": {
          "base_uri": "https://localhost:8080/"
        },
        "id": "IyunwIF0efqu",
        "outputId": "bc0cfbbb-7b89-4027-83c0-ade2043ffaa0"
      },
      "execution_count": 26,
      "outputs": [
        {
          "output_type": "stream",
          "name": "stdout",
          "text": [
            "[1, 4, 9, 16]\n"
          ]
        }
      ]
    },
    {
      "cell_type": "code",
      "source": [],
      "metadata": {
        "id": "yAaZ4iijeqPs"
      },
      "execution_count": null,
      "outputs": []
    }
  ]
}