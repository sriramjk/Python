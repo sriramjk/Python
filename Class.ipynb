{
  "nbformat": 4,
  "nbformat_minor": 0,
  "metadata": {
    "colab": {
      "provenance": []
    },
    "kernelspec": {
      "name": "python3",
      "display_name": "Python 3"
    },
    "language_info": {
      "name": "python"
    }
  },
  "cells": [
    {
      "cell_type": "code",
      "execution_count": 1,
      "metadata": {
        "id": "81YzutbQg869"
      },
      "outputs": [],
      "source": [
        "class MobilePhone:\n",
        "  pass"
      ]
    },
    {
      "cell_type": "code",
      "source": [
        "new_phone = MobilePhone()"
      ],
      "metadata": {
        "id": "asbR5zsaiLQX"
      },
      "execution_count": 2,
      "outputs": []
    },
    {
      "cell_type": "code",
      "source": [
        "type(new_phone)"
      ],
      "metadata": {
        "colab": {
          "base_uri": "https://localhost:8080/"
        },
        "id": "0kLCqIpSiQ4z",
        "outputId": "483c537b-36c3-4810-8e44-cfcadc8364e9"
      },
      "execution_count": 3,
      "outputs": [
        {
          "output_type": "execute_result",
          "data": {
            "text/plain": [
              "__main__.MobilePhone"
            ]
          },
          "metadata": {},
          "execution_count": 3
        }
      ]
    },
    {
      "cell_type": "code",
      "source": [
        "class MobilePhone:\n",
        "  def __init__(self, name):\n",
        "    print('jai sriram')\n",
        "    self.name = name"
      ],
      "metadata": {
        "id": "K8If1Q95iSDj"
      },
      "execution_count": 4,
      "outputs": []
    },
    {
      "cell_type": "code",
      "source": [
        "new_phone = MobilePhone(\"iphone 5s\")"
      ],
      "metadata": {
        "colab": {
          "base_uri": "https://localhost:8080/"
        },
        "id": "uX2KJ4clilBi",
        "outputId": "76e2e591-97af-48d4-b28f-9fd622c5a50c"
      },
      "execution_count": 5,
      "outputs": [
        {
          "output_type": "stream",
          "name": "stdout",
          "text": [
            "jai sriram\n"
          ]
        }
      ]
    },
    {
      "cell_type": "code",
      "source": [
        "new_phone.name"
      ],
      "metadata": {
        "colab": {
          "base_uri": "https://localhost:8080/",
          "height": 35
        },
        "id": "JHYbTt5VioUo",
        "outputId": "65406a22-e945-4640-a44c-34eb393174f3"
      },
      "execution_count": 6,
      "outputs": [
        {
          "output_type": "execute_result",
          "data": {
            "text/plain": [
              "'iphone 5s'"
            ],
            "application/vnd.google.colaboratory.intrinsic+json": {
              "type": "string"
            }
          },
          "metadata": {},
          "execution_count": 6
        }
      ]
    },
    {
      "cell_type": "code",
      "source": [
        "class MobilePhone:\n",
        "  def __init__(self, name, is_anroid=False, screen_size=4.2):\n",
        "    self.name = name\n",
        "    self.is_anroid = is_anroid\n",
        "    self.screen_size = screen_size"
      ],
      "metadata": {
        "id": "zUoD8eHois4c"
      },
      "execution_count": 7,
      "outputs": []
    },
    {
      "cell_type": "code",
      "source": [
        "new_phone = MobilePhone(\"iphone 5s\")"
      ],
      "metadata": {
        "id": "NhS-aNkwi3k5"
      },
      "execution_count": 8,
      "outputs": []
    },
    {
      "cell_type": "code",
      "source": [
        "print(new_phone.name)\n",
        "print(new_phone.is_anroid)\n",
        "print(new_phone.screen_size)"
      ],
      "metadata": {
        "colab": {
          "base_uri": "https://localhost:8080/"
        },
        "id": "YXh-Yk1Gi6Ri",
        "outputId": "a2c95763-61c0-44d3-d449-566f18606cda"
      },
      "execution_count": 9,
      "outputs": [
        {
          "output_type": "stream",
          "name": "stdout",
          "text": [
            "iphone 5s\n",
            "False\n",
            "4.2\n"
          ]
        }
      ]
    },
    {
      "cell_type": "code",
      "source": [
        "new_phone.screen_size = 100"
      ],
      "metadata": {
        "id": "MxcuEhAokFa1"
      },
      "execution_count": 10,
      "outputs": []
    },
    {
      "cell_type": "code",
      "source": [
        "print(new_phone.name)\n",
        "print(new_phone.is_anroid)\n",
        "print(new_phone.screen_size)"
      ],
      "metadata": {
        "colab": {
          "base_uri": "https://localhost:8080/"
        },
        "id": "pgLKp_XokPIN",
        "outputId": "63cfed53-d474-4f91-9d29-7eb7bf5351fb"
      },
      "execution_count": 11,
      "outputs": [
        {
          "output_type": "stream",
          "name": "stdout",
          "text": [
            "iphone 5s\n",
            "False\n",
            "100\n"
          ]
        }
      ]
    },
    {
      "cell_type": "code",
      "source": [
        "class MobilePhone:\n",
        "  \"\"\"This is a python class\"\"\"\n",
        "  def __init__(self, name, is_anroid=False, screen_size=4.2):\n",
        "    self.name = name\n",
        "    self.is_anroid = is_anroid\n",
        "    self.screen_size = screen_size\n",
        "    self.rating = -1\n",
        "\n",
        "  def has_rating(self):\n",
        "    return self.rating > -1"
      ],
      "metadata": {
        "id": "wzgdOL8XkQwS"
      },
      "execution_count": 19,
      "outputs": []
    },
    {
      "cell_type": "code",
      "source": [
        "new_phone = MobilePhone(\"iphone 5s\")\n"
      ],
      "metadata": {
        "id": "tfusuCQEka8E"
      },
      "execution_count": 16,
      "outputs": []
    },
    {
      "cell_type": "code",
      "source": [
        "new_phone.has_rating()"
      ],
      "metadata": {
        "colab": {
          "base_uri": "https://localhost:8080/"
        },
        "id": "dmk4kc-FkeCe",
        "outputId": "53b56dfd-049a-4554-8087-cfb5e7bf0096"
      },
      "execution_count": 17,
      "outputs": [
        {
          "output_type": "execute_result",
          "data": {
            "text/plain": [
              "False"
            ]
          },
          "metadata": {},
          "execution_count": 17
        }
      ]
    },
    {
      "cell_type": "code",
      "source": [
        "new_phone.rating = 4\n",
        "new_phone.has_rating()\n"
      ],
      "metadata": {
        "colab": {
          "base_uri": "https://localhost:8080/"
        },
        "id": "_LPUQCaukgYK",
        "outputId": "b0ada6e5-8ed6-4621-b16d-eda8357acd20"
      },
      "execution_count": 18,
      "outputs": [
        {
          "output_type": "execute_result",
          "data": {
            "text/plain": [
              "True"
            ]
          },
          "metadata": {},
          "execution_count": 18
        }
      ]
    },
    {
      "cell_type": "code",
      "source": [
        "MobilePhone.__doc__"
      ],
      "metadata": {
        "colab": {
          "base_uri": "https://localhost:8080/",
          "height": 35
        },
        "id": "7awZO83OkvcS",
        "outputId": "5a740b81-3bcd-4fbd-827c-53f752d73d7d"
      },
      "execution_count": 20,
      "outputs": [
        {
          "output_type": "execute_result",
          "data": {
            "text/plain": [
              "'This is a python class'"
            ],
            "application/vnd.google.colaboratory.intrinsic+json": {
              "type": "string"
            }
          },
          "metadata": {},
          "execution_count": 20
        }
      ]
    },
    {
      "cell_type": "code",
      "source": [
        "class iPhone(MobilePhone):\n",
        "  def __init__(self, name):\n",
        "    MobilePhone.__init__(self, name, False, 4)\n",
        "    self.name = \"sriram\"\n",
        "\n",
        "\n",
        "  def __str__(self):\n",
        "    return self.name"
      ],
      "metadata": {
        "id": "m1JXWNMHk4a7"
      },
      "execution_count": 32,
      "outputs": []
    },
    {
      "cell_type": "code",
      "source": [
        "new_iphone = iPhone(\"iphone 100s\")"
      ],
      "metadata": {
        "id": "_hutaBWOlPnP"
      },
      "execution_count": 33,
      "outputs": []
    },
    {
      "cell_type": "code",
      "source": [
        "new_iphone.is_anroid"
      ],
      "metadata": {
        "colab": {
          "base_uri": "https://localhost:8080/"
        },
        "id": "ApvrUMlnlZv7",
        "outputId": "7c5219be-a8e2-42a3-b339-f3255ef1759d"
      },
      "execution_count": 34,
      "outputs": [
        {
          "output_type": "execute_result",
          "data": {
            "text/plain": [
              "False"
            ]
          },
          "metadata": {},
          "execution_count": 34
        }
      ]
    },
    {
      "cell_type": "code",
      "source": [
        "new_iphone.name"
      ],
      "metadata": {
        "colab": {
          "base_uri": "https://localhost:8080/",
          "height": 35
        },
        "id": "PU3LPzpklbSm",
        "outputId": "ff76c00a-1153-4bed-b4be-79738d0e5133"
      },
      "execution_count": 35,
      "outputs": [
        {
          "output_type": "execute_result",
          "data": {
            "text/plain": [
              "'sriram'"
            ],
            "application/vnd.google.colaboratory.intrinsic+json": {
              "type": "string"
            }
          },
          "metadata": {},
          "execution_count": 35
        }
      ]
    },
    {
      "cell_type": "code",
      "source": [
        "print(new_iphone)"
      ],
      "metadata": {
        "colab": {
          "base_uri": "https://localhost:8080/"
        },
        "id": "X0fQyUrJloMX",
        "outputId": "7e708960-8742-4cc9-d90b-a87e745835d6"
      },
      "execution_count": 37,
      "outputs": [
        {
          "output_type": "stream",
          "name": "stdout",
          "text": [
            "sriram\n"
          ]
        }
      ]
    },
    {
      "cell_type": "code",
      "source": [
        "new_iphone.__str__()"
      ],
      "metadata": {
        "colab": {
          "base_uri": "https://localhost:8080/",
          "height": 35
        },
        "id": "AbVwAVskmKwO",
        "outputId": "8279d40f-e128-44b0-efc2-f1185923b3c9"
      },
      "execution_count": 38,
      "outputs": [
        {
          "output_type": "execute_result",
          "data": {
            "text/plain": [
              "'sriram'"
            ],
            "application/vnd.google.colaboratory.intrinsic+json": {
              "type": "string"
            }
          },
          "metadata": {},
          "execution_count": 38
        }
      ]
    },
    {
      "cell_type": "code",
      "source": [],
      "metadata": {
        "id": "kfmZ5vtumTgk"
      },
      "execution_count": null,
      "outputs": []
    },
    {
      "cell_type": "code",
      "source": [
        "# Parent class\n",
        "class Animal:\n",
        "    def __init__(self, name):\n",
        "        self.name = name\n",
        "        print(f\"Animal __init__ called: {self.name}\")\n",
        "\n",
        "    def speak(self):\n",
        "        print(f\"{self.name} makes a sound\")\n",
        "\n",
        "# Child class\n",
        "class Dog(Animal):\n",
        "    def __init__(self, name, breed):\n",
        "        #super().__init__(name)  # Call the parent class constructor\n",
        "        Animal.__init__(self, name)\n",
        "        self.breed = breed\n",
        "        print(f\"Dog __init__ called: {self.name}, {self.breed}\")\n",
        "\n",
        "    def speak(self):\n",
        "        super().speak()  # Call the parent class method\n",
        "        print(f\"{self.name} barks\")\n",
        "\n",
        "# Creating an object of Dog\n",
        "dog = Dog(\"Buddy\", \"Golden Retriever\")\n",
        "dog.speak()\n"
      ],
      "metadata": {
        "colab": {
          "base_uri": "https://localhost:8080/"
        },
        "id": "PL4Qy1EGnJdG",
        "outputId": "52e0b70c-852a-4cc4-bad7-bc82e53c93ac"
      },
      "execution_count": 41,
      "outputs": [
        {
          "output_type": "stream",
          "name": "stdout",
          "text": [
            "Animal __init__ called: Buddy\n",
            "Dog __init__ called: Buddy, Golden Retriever\n",
            "Buddy makes a sound\n",
            "Buddy barks\n"
          ]
        }
      ]
    },
    {
      "cell_type": "code",
      "source": [],
      "metadata": {
        "id": "Iq6z1mnznMUF"
      },
      "execution_count": null,
      "outputs": []
    }
  ]
}