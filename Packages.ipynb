{
  "nbformat": 4,
  "nbformat_minor": 0,
  "metadata": {
    "colab": {
      "provenance": []
    },
    "kernelspec": {
      "name": "python3",
      "display_name": "Python 3"
    },
    "language_info": {
      "name": "python"
    }
  },
  "cells": [
    {
      "cell_type": "code",
      "execution_count": 1,
      "metadata": {
        "id": "PdrVE_7Undoa"
      },
      "outputs": [],
      "source": [
        "import math"
      ]
    },
    {
      "cell_type": "code",
      "source": [
        "a = math.sqrt(100)\n",
        "print(a)"
      ],
      "metadata": {
        "colab": {
          "base_uri": "https://localhost:8080/"
        },
        "id": "sw_FIXnTnnC2",
        "outputId": "5709b387-998b-4bbd-e6ee-dbbf8f62ee1d"
      },
      "execution_count": 3,
      "outputs": [
        {
          "output_type": "stream",
          "name": "stdout",
          "text": [
            "10.0\n"
          ]
        }
      ]
    },
    {
      "cell_type": "code",
      "source": [
        "b = math.pow(100,0.5)\n",
        "print(b)"
      ],
      "metadata": {
        "colab": {
          "base_uri": "https://localhost:8080/"
        },
        "id": "dVGiEc8wno17",
        "outputId": "51591a76-27a1-484e-e0c4-119566e8e78a"
      },
      "execution_count": 4,
      "outputs": [
        {
          "output_type": "stream",
          "name": "stdout",
          "text": [
            "10.0\n"
          ]
        }
      ]
    },
    {
      "cell_type": "code",
      "source": [
        "x = 10\n",
        "y = 1\n",
        "for i in range(1, x+1):\n",
        "  y = y * i\n",
        "print('Factorial of', x, 'is', y)"
      ],
      "metadata": {
        "colab": {
          "base_uri": "https://localhost:8080/"
        },
        "id": "Itc_QnUZntKx",
        "outputId": "cae5a71c-e56c-461e-b5ec-4efd2e200a5e"
      },
      "execution_count": 8,
      "outputs": [
        {
          "output_type": "stream",
          "name": "stdout",
          "text": [
            "Factorial of 10 is 3628800\n"
          ]
        }
      ]
    },
    {
      "cell_type": "code",
      "source": [
        "y = math.factorial(10)\n",
        "print(y)"
      ],
      "metadata": {
        "colab": {
          "base_uri": "https://localhost:8080/"
        },
        "id": "K1D3odf1n6eT",
        "outputId": "e5b3d5f3-7c48-47a4-b9e6-f98bbbcdc929"
      },
      "execution_count": 9,
      "outputs": [
        {
          "output_type": "stream",
          "name": "stdout",
          "text": [
            "3628800\n"
          ]
        }
      ]
    },
    {
      "cell_type": "code",
      "source": [
        "def fact(x):\n",
        "  y = 1\n",
        "  for i in range(1, x+1):\n",
        "    y = y * i\n",
        "  return y"
      ],
      "metadata": {
        "id": "r8Q2wn3RoIN3"
      },
      "execution_count": 10,
      "outputs": []
    },
    {
      "cell_type": "code",
      "source": [
        "# Experiment\n",
        "import time"
      ],
      "metadata": {
        "id": "VqNdR2Y9oRCP"
      },
      "execution_count": 12,
      "outputs": []
    },
    {
      "cell_type": "code",
      "source": [
        "tic = time.time()\n",
        "for i in range(1, 100):\n",
        "  res =  fact(i)\n",
        "toc = time.time()\n",
        "print('Elapsed time:', toc-tic)"
      ],
      "metadata": {
        "colab": {
          "base_uri": "https://localhost:8080/"
        },
        "id": "3wdhEJw9oT79",
        "outputId": "32260871-8d52-42ec-cbc9-6a344835b06b"
      },
      "execution_count": 21,
      "outputs": [
        {
          "output_type": "stream",
          "name": "stdout",
          "text": [
            "Elapsed time: 0.0007309913635253906\n"
          ]
        }
      ]
    },
    {
      "cell_type": "code",
      "source": [
        "tic = time.time()\n",
        "for i in range(1, 100):\n",
        "  res =  math.factorial(i)\n",
        "toc = time.time()\n",
        "print('Elapsed time:', toc-tic)"
      ],
      "metadata": {
        "colab": {
          "base_uri": "https://localhost:8080/"
        },
        "id": "n2wrlQbzoeFi",
        "outputId": "38909e9d-2e41-4302-e02e-67cc7eb5da97"
      },
      "execution_count": 22,
      "outputs": [
        {
          "output_type": "stream",
          "name": "stdout",
          "text": [
            "Elapsed time: 0.00016069412231445312\n"
          ]
        }
      ]
    },
    {
      "cell_type": "code",
      "source": [
        "# imported functions of a module are so fast as they are implemented in cpp"
      ],
      "metadata": {
        "id": "UjBvtVQKojLX"
      },
      "execution_count": 23,
      "outputs": []
    },
    {
      "cell_type": "code",
      "source": [
        "!echo 'def hello():' > harshal.py"
      ],
      "metadata": {
        "id": "1X-55c4SpBgq"
      },
      "execution_count": 34,
      "outputs": []
    },
    {
      "cell_type": "code",
      "source": [
        "!cat harshal.py"
      ],
      "metadata": {
        "colab": {
          "base_uri": "https://localhost:8080/"
        },
        "id": "3daVYnidpR2Z",
        "outputId": "fe72b813-5501-477f-d102-4a946250219f"
      },
      "execution_count": 35,
      "outputs": [
        {
          "output_type": "stream",
          "name": "stdout",
          "text": [
            "def hello():\n"
          ]
        }
      ]
    },
    {
      "cell_type": "code",
      "source": [
        "!echo ' print(\"jai sriram\")' >> harshal.py"
      ],
      "metadata": {
        "id": "SBBw7nk6pUzG"
      },
      "execution_count": 36,
      "outputs": []
    },
    {
      "cell_type": "code",
      "source": [
        "!cat harshal.py"
      ],
      "metadata": {
        "colab": {
          "base_uri": "https://localhost:8080/"
        },
        "id": "8xnaTq42pb5f",
        "outputId": "fefa8437-23b2-44b0-e6fb-bade892c43a6"
      },
      "execution_count": 37,
      "outputs": [
        {
          "output_type": "stream",
          "name": "stdout",
          "text": [
            "def hello():\n",
            " print(\"jai sriram\")\n"
          ]
        }
      ]
    },
    {
      "cell_type": "code",
      "source": [
        "import harshal as harsh"
      ],
      "metadata": {
        "id": "QvB4E8W3pk4w"
      },
      "execution_count": 38,
      "outputs": []
    },
    {
      "cell_type": "code",
      "source": [
        "harsh.hello()"
      ],
      "metadata": {
        "colab": {
          "base_uri": "https://localhost:8080/"
        },
        "id": "Ld-a6BlOptRS",
        "outputId": "49762e31-8178-45e0-9b1e-4ee91091e76f"
      },
      "execution_count": 39,
      "outputs": [
        {
          "output_type": "stream",
          "name": "stdout",
          "text": [
            "jai sriram\n"
          ]
        }
      ]
    },
    {
      "cell_type": "code",
      "source": [
        "from harshal import hello as ram"
      ],
      "metadata": {
        "id": "L8nCnjsRpup_"
      },
      "execution_count": 40,
      "outputs": []
    },
    {
      "cell_type": "code",
      "source": [
        "ram()"
      ],
      "metadata": {
        "colab": {
          "base_uri": "https://localhost:8080/"
        },
        "id": "wm2bM56bpz0S",
        "outputId": "d0714427-cd1f-4c46-a788-3b1e4621eb17"
      },
      "execution_count": 41,
      "outputs": [
        {
          "output_type": "stream",
          "name": "stdout",
          "text": [
            "jai sriram\n"
          ]
        }
      ]
    },
    {
      "cell_type": "code",
      "source": [
        "# i am changing my directory and creating a file inside the sample_data"
      ],
      "metadata": {
        "id": "x0-sRaqrp0YN"
      },
      "execution_count": 42,
      "outputs": []
    },
    {
      "cell_type": "code",
      "source": [
        "import os\n",
        "print(os.getcwd())"
      ],
      "metadata": {
        "colab": {
          "base_uri": "https://localhost:8080/"
        },
        "id": "wCYRh8klp823",
        "outputId": "1222ec8f-e122-4805-e89a-ba9a1573edf2"
      },
      "execution_count": 44,
      "outputs": [
        {
          "output_type": "stream",
          "name": "stdout",
          "text": [
            "/content\n"
          ]
        }
      ]
    },
    {
      "cell_type": "code",
      "source": [
        "%cd /content/sample_data/"
      ],
      "metadata": {
        "colab": {
          "base_uri": "https://localhost:8080/"
        },
        "id": "TZSLbDeYqJrC",
        "outputId": "bfdaac67-4a9c-4abd-d802-e49edfb3faeb"
      },
      "execution_count": 45,
      "outputs": [
        {
          "output_type": "stream",
          "name": "stdout",
          "text": [
            "/content/sample_data\n"
          ]
        }
      ]
    },
    {
      "cell_type": "code",
      "source": [
        "import os\n",
        "print(os.getcwd())"
      ],
      "metadata": {
        "colab": {
          "base_uri": "https://localhost:8080/"
        },
        "id": "GbdVOFWIqY_Q",
        "outputId": "8c65ec6f-fe99-4762-8e16-b1b85bfa2baa"
      },
      "execution_count": 46,
      "outputs": [
        {
          "output_type": "stream",
          "name": "stdout",
          "text": [
            "/content/sample_data\n"
          ]
        }
      ]
    },
    {
      "cell_type": "code",
      "source": [
        "!echo 'def hello():' > sriram.py\n",
        "!echo ' print(\"jai sriram\")' >> sriram.py"
      ],
      "metadata": {
        "id": "Hh6t7FILqaen"
      },
      "execution_count": 47,
      "outputs": []
    },
    {
      "cell_type": "code",
      "source": [
        "# i will back to home directory"
      ],
      "metadata": {
        "id": "FYZfO8aQqfOL"
      },
      "execution_count": 48,
      "outputs": []
    },
    {
      "cell_type": "code",
      "source": [
        "%cd /content/"
      ],
      "metadata": {
        "colab": {
          "base_uri": "https://localhost:8080/"
        },
        "id": "XQ4YSFbkqj4M",
        "outputId": "c538e28c-d256-4ea3-af94-a1d97979566d"
      },
      "execution_count": 49,
      "outputs": [
        {
          "output_type": "stream",
          "name": "stdout",
          "text": [
            "/content\n"
          ]
        }
      ]
    },
    {
      "cell_type": "code",
      "source": [
        "import os\n",
        "print(os.getcwd())"
      ],
      "metadata": {
        "colab": {
          "base_uri": "https://localhost:8080/"
        },
        "id": "1adNG91zqmPj",
        "outputId": "d8d4ea6a-1002-4906-f13e-635095648da5"
      },
      "execution_count": 50,
      "outputs": [
        {
          "output_type": "stream",
          "name": "stdout",
          "text": [
            "/content\n"
          ]
        }
      ]
    },
    {
      "cell_type": "code",
      "source": [
        "!ls"
      ],
      "metadata": {
        "colab": {
          "base_uri": "https://localhost:8080/"
        },
        "id": "h4B2Kd5dqoiU",
        "outputId": "69263f58-8eff-4a89-8005-a6a78cb9af46"
      },
      "execution_count": 51,
      "outputs": [
        {
          "output_type": "stream",
          "name": "stdout",
          "text": [
            "harshal.py  __pycache__  sample_data\n"
          ]
        }
      ]
    },
    {
      "cell_type": "code",
      "source": [
        "from sample_data.sriram import hello"
      ],
      "metadata": {
        "id": "mOnvG2A3qpud"
      },
      "execution_count": 52,
      "outputs": []
    },
    {
      "cell_type": "code",
      "source": [
        "hello()"
      ],
      "metadata": {
        "colab": {
          "base_uri": "https://localhost:8080/"
        },
        "id": "T1YpinSMrBpz",
        "outputId": "2350e3b5-7667-4c0c-aef7-f16234d5acbd"
      },
      "execution_count": 53,
      "outputs": [
        {
          "output_type": "stream",
          "name": "stdout",
          "text": [
            "jai sriram\n"
          ]
        }
      ]
    },
    {
      "cell_type": "code",
      "source": [
        "import sample_data.sriram as h"
      ],
      "metadata": {
        "id": "0WhCnra0rCXt"
      },
      "execution_count": 54,
      "outputs": []
    },
    {
      "cell_type": "code",
      "source": [
        "h.hello()"
      ],
      "metadata": {
        "colab": {
          "base_uri": "https://localhost:8080/"
        },
        "id": "PCQhQ4pdrFAO",
        "outputId": "dbade7dd-e25f-4405-911d-50f96b55446f"
      },
      "execution_count": 55,
      "outputs": [
        {
          "output_type": "stream",
          "name": "stdout",
          "text": [
            "jai sriram\n"
          ]
        }
      ]
    },
    {
      "cell_type": "code",
      "source": [
        "import sys\n",
        "print(sys.path)"
      ],
      "metadata": {
        "colab": {
          "base_uri": "https://localhost:8080/"
        },
        "id": "4y6X0CAorF5i",
        "outputId": "9ade995b-70d4-4fb1-ef05-b33ac0dd0c5c"
      },
      "execution_count": 56,
      "outputs": [
        {
          "output_type": "stream",
          "name": "stdout",
          "text": [
            "['/content', '/env/python', '/usr/lib/python311.zip', '/usr/lib/python3.11', '/usr/lib/python3.11/lib-dynload', '', '/usr/local/lib/python3.11/dist-packages', '/usr/lib/python3/dist-packages', '/usr/local/lib/python3.11/dist-packages/IPython/extensions', '/root/.ipython']\n"
          ]
        }
      ]
    },
    {
      "cell_type": "code",
      "source": [
        "import sys\n",
        "sys.path.append('/content/sample_data')"
      ],
      "metadata": {
        "id": "BXjJOtk7rQDx"
      },
      "execution_count": 57,
      "outputs": []
    },
    {
      "cell_type": "code",
      "source": [
        "import sys\n",
        "print(sys.path)"
      ],
      "metadata": {
        "colab": {
          "base_uri": "https://localhost:8080/"
        },
        "id": "8Fbu0xrSrh8b",
        "outputId": "a5f0c020-278b-4a0a-e10b-8ab8c497db56"
      },
      "execution_count": 58,
      "outputs": [
        {
          "output_type": "stream",
          "name": "stdout",
          "text": [
            "['/content', '/env/python', '/usr/lib/python311.zip', '/usr/lib/python3.11', '/usr/lib/python3.11/lib-dynload', '', '/usr/local/lib/python3.11/dist-packages', '/usr/lib/python3/dist-packages', '/usr/local/lib/python3.11/dist-packages/IPython/extensions', '/root/.ipython', '/content/sample_data']\n"
          ]
        }
      ]
    },
    {
      "cell_type": "code",
      "source": [
        "from sriram import hello"
      ],
      "metadata": {
        "id": "jftk-NjNrjmd"
      },
      "execution_count": 59,
      "outputs": []
    },
    {
      "cell_type": "code",
      "source": [
        "hello()"
      ],
      "metadata": {
        "colab": {
          "base_uri": "https://localhost:8080/"
        },
        "id": "O9_6FicCrpQL",
        "outputId": "2e34b73d-ae14-4a54-e324-20cb36c635c9"
      },
      "execution_count": 60,
      "outputs": [
        {
          "output_type": "stream",
          "name": "stdout",
          "text": [
            "jai sriram\n"
          ]
        }
      ]
    },
    {
      "cell_type": "code",
      "source": [],
      "metadata": {
        "id": "HIHb0OntrqEB"
      },
      "execution_count": null,
      "outputs": []
    }
  ]
}