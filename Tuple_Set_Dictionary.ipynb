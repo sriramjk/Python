{
  "nbformat": 4,
  "nbformat_minor": 0,
  "metadata": {
    "colab": {
      "provenance": [],
      "collapsed_sections": [
        "lOYj0nM8fhM6"
      ]
    },
    "kernelspec": {
      "name": "python3",
      "display_name": "Python 3"
    },
    "language_info": {
      "name": "python"
    }
  },
  "cells": [
    {
      "cell_type": "markdown",
      "source": [
        "# tuple"
      ],
      "metadata": {
        "id": "lOYj0nM8fhM6"
      }
    },
    {
      "cell_type": "code",
      "execution_count": 1,
      "metadata": {
        "colab": {
          "base_uri": "https://localhost:8080/"
        },
        "id": "u6_tnwGYfc5H",
        "outputId": "6fd9f833-6210-4a14-a1cf-534bd4ddb039"
      },
      "outputs": [
        {
          "output_type": "stream",
          "name": "stdout",
          "text": [
            "<class 'list'>\n"
          ]
        }
      ],
      "source": [
        "my_phone = ['iphone 5s', False, 4.3, '3G']\n",
        "print(type(my_phone))"
      ]
    },
    {
      "cell_type": "code",
      "source": [
        "my_phone_tuple = ('iphone 5s', False, 4.3, '3G')\n",
        "print(type(my_phone_tuple))"
      ],
      "metadata": {
        "colab": {
          "base_uri": "https://localhost:8080/"
        },
        "id": "GUmbkZymfr9d",
        "outputId": "35040f67-7908-4cd2-9ba6-c97ebe5f49e0"
      },
      "execution_count": 2,
      "outputs": [
        {
          "output_type": "stream",
          "name": "stdout",
          "text": [
            "<class 'tuple'>\n"
          ]
        }
      ]
    },
    {
      "cell_type": "code",
      "source": [
        "my_phone_tuple[0]"
      ],
      "metadata": {
        "colab": {
          "base_uri": "https://localhost:8080/",
          "height": 35
        },
        "id": "SmulHAt8fwwH",
        "outputId": "e0ff8869-e634-45b6-d99f-ffb3f0730997"
      },
      "execution_count": 3,
      "outputs": [
        {
          "output_type": "execute_result",
          "data": {
            "text/plain": [
              "'iphone 5s'"
            ],
            "application/vnd.google.colaboratory.intrinsic+json": {
              "type": "string"
            }
          },
          "metadata": {},
          "execution_count": 3
        }
      ]
    },
    {
      "cell_type": "code",
      "source": [
        "for data in my_phone_tuple:\n",
        "    print(data)"
      ],
      "metadata": {
        "colab": {
          "base_uri": "https://localhost:8080/"
        },
        "id": "ecSU1eVDf4YI",
        "outputId": "5b3de979-1158-4a1f-fdd9-afce83fa5789"
      },
      "execution_count": 4,
      "outputs": [
        {
          "output_type": "stream",
          "name": "stdout",
          "text": [
            "iphone 5s\n",
            "False\n",
            "4.3\n",
            "3G\n"
          ]
        }
      ]
    },
    {
      "cell_type": "code",
      "source": [
        "my_phone_tuple[2] = 4.0"
      ],
      "metadata": {
        "colab": {
          "base_uri": "https://localhost:8080/",
          "height": 141
        },
        "id": "fazu8qQQf7Kn",
        "outputId": "13365900-6d38-4479-d88c-2f6a0c68fdaf"
      },
      "execution_count": 5,
      "outputs": [
        {
          "output_type": "error",
          "ename": "TypeError",
          "evalue": "'tuple' object does not support item assignment",
          "traceback": [
            "\u001b[0;31m---------------------------------------------------------------------------\u001b[0m",
            "\u001b[0;31mTypeError\u001b[0m                                 Traceback (most recent call last)",
            "\u001b[0;32m<ipython-input-5-92c106773aed>\u001b[0m in \u001b[0;36m<cell line: 0>\u001b[0;34m()\u001b[0m\n\u001b[0;32m----> 1\u001b[0;31m \u001b[0mmy_phone_tuple\u001b[0m\u001b[0;34m[\u001b[0m\u001b[0;36m2\u001b[0m\u001b[0;34m]\u001b[0m \u001b[0;34m=\u001b[0m \u001b[0;36m4.0\u001b[0m\u001b[0;34m\u001b[0m\u001b[0;34m\u001b[0m\u001b[0m\n\u001b[0m",
            "\u001b[0;31mTypeError\u001b[0m: 'tuple' object does not support item assignment"
          ]
        }
      ]
    },
    {
      "cell_type": "code",
      "source": [
        "# Experiment"
      ],
      "metadata": {
        "id": "Z3Hllc5Hf9ur"
      },
      "execution_count": 6,
      "outputs": []
    },
    {
      "cell_type": "code",
      "source": [
        "import time"
      ],
      "metadata": {
        "id": "u8RYBumRgKo7"
      },
      "execution_count": 7,
      "outputs": []
    },
    {
      "cell_type": "code",
      "source": [
        "tic = time.time()\n",
        "print(tic)"
      ],
      "metadata": {
        "colab": {
          "base_uri": "https://localhost:8080/"
        },
        "id": "sZnTE-7KgLtF",
        "outputId": "ed5fcd7e-3dda-4426-a00e-b1f8e25d4d0b"
      },
      "execution_count": 8,
      "outputs": [
        {
          "output_type": "stream",
          "name": "stdout",
          "text": [
            "1746466304.2416973\n"
          ]
        }
      ]
    },
    {
      "cell_type": "code",
      "source": [
        "time.time?"
      ],
      "metadata": {
        "id": "4UdntGZqgPLt"
      },
      "execution_count": 9,
      "outputs": []
    },
    {
      "cell_type": "code",
      "source": [
        "# Return the current time in seconds since the Epoch."
      ],
      "metadata": {
        "id": "0uP0EN7DgQj4"
      },
      "execution_count": 10,
      "outputs": []
    },
    {
      "cell_type": "code",
      "source": [
        "tic = time.time()\n",
        "# do something that takes some time that is to be measured\n",
        "toc = time.time()\n",
        "print('Elapsed time in seconds', toc-tic)"
      ],
      "metadata": {
        "colab": {
          "base_uri": "https://localhost:8080/"
        },
        "id": "zGIHzlaGgUTX",
        "outputId": "55fa5669-1a2a-495f-9dc4-2d08087421aa"
      },
      "execution_count": 11,
      "outputs": [
        {
          "output_type": "stream",
          "name": "stdout",
          "text": [
            "Elapsed time in seconds 4.792213439941406e-05\n"
          ]
        }
      ]
    },
    {
      "cell_type": "code",
      "source": [
        "my_list = list(range(1000000))\n",
        "tic = time.time()\n",
        "my_list_squared = [x**2 for x in my_list]\n",
        "toc = time.time()\n",
        "print('Elapsed time in seconds', toc-tic)"
      ],
      "metadata": {
        "colab": {
          "base_uri": "https://localhost:8080/"
        },
        "id": "bsPi2wfugiKf",
        "outputId": "539fdce2-99c1-4f2d-d2bb-1875f14c8e57"
      },
      "execution_count": 14,
      "outputs": [
        {
          "output_type": "stream",
          "name": "stdout",
          "text": [
            "Elapsed time in seconds 0.07330608367919922\n"
          ]
        }
      ]
    },
    {
      "cell_type": "code",
      "source": [
        "my_tuple = tuple(range(1000000))\n",
        "tic = time.time()\n",
        "my_tuple_squared = [x**2 for x in my_tuple]\n",
        "toc = time.time()\n",
        "print('Elapsed time in seconds', toc-tic)"
      ],
      "metadata": {
        "colab": {
          "base_uri": "https://localhost:8080/"
        },
        "id": "ECVa1OoygrMy",
        "outputId": "138561c9-de86-4a62-a9f7-61bf25be05f0"
      },
      "execution_count": 15,
      "outputs": [
        {
          "output_type": "stream",
          "name": "stdout",
          "text": [
            "Elapsed time in seconds 0.0692451000213623\n"
          ]
        }
      ]
    },
    {
      "cell_type": "code",
      "source": [
        "# tuple is faster than list"
      ],
      "metadata": {
        "id": "nMCFLLnjgtbh"
      },
      "execution_count": 16,
      "outputs": []
    },
    {
      "cell_type": "markdown",
      "source": [
        "# Sets"
      ],
      "metadata": {
        "id": "L9xLLNwJg6YJ"
      }
    },
    {
      "cell_type": "code",
      "source": [
        "my_set = set()\n",
        "print(my_set)\n",
        "print(type(my_set))"
      ],
      "metadata": {
        "colab": {
          "base_uri": "https://localhost:8080/"
        },
        "id": "MZHE-p1mg7OV",
        "outputId": "e837c679-68f0-45ab-cf02-cc70ccb0295e"
      },
      "execution_count": 17,
      "outputs": [
        {
          "output_type": "stream",
          "name": "stdout",
          "text": [
            "set()\n",
            "<class 'set'>\n"
          ]
        }
      ]
    },
    {
      "cell_type": "code",
      "source": [
        "print(my_phone)"
      ],
      "metadata": {
        "colab": {
          "base_uri": "https://localhost:8080/"
        },
        "id": "EoaVOHawhBsf",
        "outputId": "1200c14a-79bf-44f9-cea3-3fc5c0febc1c"
      },
      "execution_count": 18,
      "outputs": [
        {
          "output_type": "stream",
          "name": "stdout",
          "text": [
            "['iphone 5s', False, 4.3, '3G']\n"
          ]
        }
      ]
    },
    {
      "cell_type": "code",
      "source": [
        "my_set = set(my_phone)"
      ],
      "metadata": {
        "id": "wsPzlHbFhEjC"
      },
      "execution_count": 19,
      "outputs": []
    },
    {
      "cell_type": "code",
      "source": [
        "my_set.add(4.3)\n",
        "my_set.add(4.300)\n",
        "my_set.add(4.31)\n",
        "print(my_set)"
      ],
      "metadata": {
        "colab": {
          "base_uri": "https://localhost:8080/"
        },
        "id": "7_sn4MxWhHSe",
        "outputId": "dcd9df5c-6bb3-4ce4-a1fc-258d4cd84caf"
      },
      "execution_count": 21,
      "outputs": [
        {
          "output_type": "stream",
          "name": "stdout",
          "text": [
            "{False, 4.3, 4.31, '3G', 'iphone 5s'}\n"
          ]
        }
      ]
    },
    {
      "cell_type": "code",
      "source": [
        "# set contain only unique elements"
      ],
      "metadata": {
        "id": "CL-DBhP6hPnb"
      },
      "execution_count": 22,
      "outputs": []
    },
    {
      "cell_type": "code",
      "source": [
        "# Experiment"
      ],
      "metadata": {
        "id": "8i67Xn-XhjDf"
      },
      "execution_count": 23,
      "outputs": []
    },
    {
      "cell_type": "code",
      "source": [
        "my_list = list(range(1000000))\n",
        "tic = time.time()\n",
        "print(3892 in my_list)\n",
        "print(834923903 in my_list)\n",
        "print(11111111111111111111111111111 in my_list)\n",
        "print(4389 in my_list)\n",
        "toc = time.time()\n",
        "print('Elapsed time in seconds', toc-tic)"
      ],
      "metadata": {
        "colab": {
          "base_uri": "https://localhost:8080/"
        },
        "id": "PlwB9SOnhkRI",
        "outputId": "bc2051fd-b40f-46a5-cf21-842386856857"
      },
      "execution_count": 24,
      "outputs": [
        {
          "output_type": "stream",
          "name": "stdout",
          "text": [
            "True\n",
            "False\n",
            "False\n",
            "True\n",
            "Elapsed time in seconds 0.03768324851989746\n"
          ]
        }
      ]
    },
    {
      "cell_type": "code",
      "source": [
        "my_set = set(range(1000000))\n",
        "tic = time.time()\n",
        "print(3892 in my_set)\n",
        "print(834923903 in my_set)\n",
        "print(11111111111111111111111111111 in my_set)\n",
        "print(4389 in my_set)\n",
        "toc = time.time()\n",
        "print('Elapsed time in seconds', toc-tic)"
      ],
      "metadata": {
        "colab": {
          "base_uri": "https://localhost:8080/"
        },
        "id": "v8--FGwUhxPZ",
        "outputId": "d2c58c21-de88-4847-fe68-715382d71dad"
      },
      "execution_count": 25,
      "outputs": [
        {
          "output_type": "stream",
          "name": "stdout",
          "text": [
            "True\n",
            "False\n",
            "False\n",
            "True\n",
            "Elapsed time in seconds 0.0006883144378662109\n"
          ]
        }
      ]
    },
    {
      "cell_type": "code",
      "source": [
        "# set is very very fast"
      ],
      "metadata": {
        "id": "Hz2MS-ofh9Z7"
      },
      "execution_count": 26,
      "outputs": []
    },
    {
      "cell_type": "code",
      "source": [],
      "metadata": {
        "id": "ttN8N8y8kK21"
      },
      "execution_count": null,
      "outputs": []
    },
    {
      "cell_type": "markdown",
      "source": [
        "# Dictionary"
      ],
      "metadata": {
        "id": "FpZS4m6FkLtw"
      }
    },
    {
      "cell_type": "code",
      "source": [
        "my_phone_dict = {}\n",
        "print(type(my_phone_dict))"
      ],
      "metadata": {
        "colab": {
          "base_uri": "https://localhost:8080/"
        },
        "id": "cE3NZu1JkNQn",
        "outputId": "d120e5c6-4d21-471f-d8cc-ed3e647fc40d"
      },
      "execution_count": 27,
      "outputs": [
        {
          "output_type": "stream",
          "name": "stdout",
          "text": [
            "<class 'dict'>\n"
          ]
        }
      ]
    },
    {
      "cell_type": "code",
      "source": [
        "my_phone_dict['name'] = 'iphone'\n",
        "print(my_phone_dict)"
      ],
      "metadata": {
        "colab": {
          "base_uri": "https://localhost:8080/"
        },
        "id": "Ko_RRNE2kRQ9",
        "outputId": "11d227dd-a1c9-4dcb-ba47-09ff2f3f9e01"
      },
      "execution_count": 28,
      "outputs": [
        {
          "output_type": "stream",
          "name": "stdout",
          "text": [
            "{'name': 'iphone'}\n"
          ]
        }
      ]
    },
    {
      "cell_type": "code",
      "source": [
        "my_phone_dict['isAnroid'] = False\n",
        "my_phone_dict['screensize'] = 4.3\n",
        "print(my_phone_dict)"
      ],
      "metadata": {
        "colab": {
          "base_uri": "https://localhost:8080/"
        },
        "id": "8fUK_OWxkVyT",
        "outputId": "95fc94fd-253b-4bc1-fccd-2f47ee20acb3"
      },
      "execution_count": 29,
      "outputs": [
        {
          "output_type": "stream",
          "name": "stdout",
          "text": [
            "{'name': 'iphone', 'isAnroid': False, 'screensize': 4.3}\n"
          ]
        }
      ]
    },
    {
      "cell_type": "code",
      "source": [
        "for k in my_phone_dict:\n",
        "    print(k, my_phone_dict[k])"
      ],
      "metadata": {
        "colab": {
          "base_uri": "https://localhost:8080/"
        },
        "id": "gC9pJetjkgwb",
        "outputId": "fe906db9-9279-4db4-f2ba-98ca6b14a038"
      },
      "execution_count": 30,
      "outputs": [
        {
          "output_type": "stream",
          "name": "stdout",
          "text": [
            "name iphone\n",
            "isAnroid False\n",
            "screensize 4.3\n"
          ]
        }
      ]
    },
    {
      "cell_type": "code",
      "source": [
        "for k, v in my_phone_dict.items():\n",
        "    print(k, v)"
      ],
      "metadata": {
        "colab": {
          "base_uri": "https://localhost:8080/"
        },
        "id": "eHg0OVL9klDG",
        "outputId": "ff9aafd9-6ab7-45a4-c05b-c47bc04b1c25"
      },
      "execution_count": 31,
      "outputs": [
        {
          "output_type": "stream",
          "name": "stdout",
          "text": [
            "name iphone\n",
            "isAnroid False\n",
            "screensize 4.3\n"
          ]
        }
      ]
    },
    {
      "cell_type": "code",
      "source": [
        "print(my_phone_dict.keys())\n",
        "print(my_phone_dict.values())"
      ],
      "metadata": {
        "colab": {
          "base_uri": "https://localhost:8080/"
        },
        "id": "oeHZftG4knCT",
        "outputId": "964bd2e9-0f65-4d2d-cd19-b057a42ca812"
      },
      "execution_count": 32,
      "outputs": [
        {
          "output_type": "stream",
          "name": "stdout",
          "text": [
            "dict_keys(['name', 'isAnroid', 'screensize'])\n",
            "dict_values(['iphone', False, 4.3])\n"
          ]
        }
      ]
    },
    {
      "cell_type": "code",
      "source": [],
      "metadata": {
        "id": "RmuRtQOfktjV"
      },
      "execution_count": null,
      "outputs": []
    }
  ]
}